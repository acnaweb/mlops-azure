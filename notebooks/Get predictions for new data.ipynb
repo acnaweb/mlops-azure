{
 "cells": [
  {
   "cell_type": "markdown",
   "id": "22dfbf7f",
   "metadata": {},
   "source": [
    "# Get predictions for new data"
   ]
  },
  {
   "cell_type": "code",
   "execution_count": null,
   "id": "bc113a0f",
   "metadata": {},
   "outputs": [],
   "source": [
    "import pycaret \n",
    "print(pycaret.__version__)"
   ]
  },
  {
   "cell_type": "code",
   "execution_count": null,
   "id": "727ddcc9",
   "metadata": {},
   "outputs": [],
   "source": [
    "import os, uuid\n",
    "from azure.storage.blob import BlobServiceClient, BlobClient, ContainerClient\n",
    "from pycaret.regression import *"
   ]
  },
  {
   "cell_type": "code",
   "execution_count": null,
   "id": "20b03996",
   "metadata": {},
   "outputs": [],
   "source": [
    "def download_blob(container_name, source_blob_name, destination_file_name):\n",
    "  # Download the blob to a local file\n",
    "    print(\"\\nDownloading blob to \\n\\t\" + destination_file_name)\n",
    "\n",
    "  # Create a blob client using the local file name as the name for the blob\n",
    "    blob_client = blob_service_client.get_blob_client(container=container_name, blob=source_blob_name)\n",
    "\n",
    "    if destination_file_name is not None: \n",
    "        with open(destination_file_name, \"wb\") as download_file:\n",
    "            download_file.write(blob_client.download_blob().readall())\n",
    "\n",
    "        print(\n",
    "            \"Blob {} downloaded to {}.\".format(\n",
    "                source_blob_name, destination_file_name\n",
    "            )\n",
    "        )"
   ]
  },
  {
   "cell_type": "markdown",
   "id": "744aec58",
   "metadata": {},
   "source": [
    "#### We establish the connection"
   ]
  },
  {
   "cell_type": "code",
   "execution_count": null,
   "id": "38978c16",
   "metadata": {},
   "outputs": [],
   "source": [
    "## Enter connection string when running in google colab\n",
    "connect_str = '' \n",
    "print(connect_str)\n",
    "\n",
    "# Create the BlobServiceClient object which will be used to create a container client\n",
    "blob_service_client = BlobServiceClient.from_connection_string(connect_str)"
   ]
  },
  {
   "cell_type": "code",
   "execution_count": null,
   "id": "18924503",
   "metadata": {},
   "outputs": [],
   "source": [
    "# Create a unique name for the container\n",
    "container_name = \"machinelearninginsurance\" \n",
    "model_name = 'lightgbm-reg-101'"
   ]
  },
  {
   "cell_type": "markdown",
   "id": "07d88c67",
   "metadata": {},
   "source": [
    "##### Model Download"
   ]
  },
  {
   "cell_type": "code",
   "execution_count": null,
   "id": "71e7988d",
   "metadata": {},
   "outputs": [],
   "source": [
    "outfile_name = 'lightgbm-reg101-azure-downloaded'\n",
    "model_azure_src = str(model_name)+'.pkl'\n",
    "download_blob(container_name, model_azure_src, outfile_name + '.pkl')"
   ]
  },
  {
   "cell_type": "markdown",
   "id": "99694e4d",
   "metadata": {},
   "source": [
    "### Forecast with new data"
   ]
  },
  {
   "cell_type": "code",
   "execution_count": null,
   "id": "c5584822",
   "metadata": {},
   "outputs": [],
   "source": [
    "# Loading the model for predictions\n",
    "azure_final_lightgbm = load_model(outfile_name)"
   ]
  },
  {
   "cell_type": "code",
   "execution_count": null,
   "id": "c8507e26",
   "metadata": {},
   "outputs": [],
   "source": [
    "from pycaret.datasets import get_data\n",
    "dataset = get_data('diamond')"
   ]
  },
  {
   "cell_type": "code",
   "execution_count": null,
   "id": "0359bb66",
   "metadata": {},
   "outputs": [],
   "source": [
    "data = dataset.sample(frac=0.95, random_state=786).reset_index(drop=True)\n",
    "data_unseen = dataset.drop(data.index).reset_index(drop=True)"
   ]
  },
  {
   "cell_type": "code",
   "execution_count": null,
   "id": "ca5df918",
   "metadata": {},
   "outputs": [],
   "source": [
    "# Predictions from deployed model\n",
    "new_prediction_azure = predict_model(azure_final_lightgbm, data=data_unseen)\n",
    "new_prediction_azure.head()"
   ]
  },
  {
   "cell_type": "code",
   "execution_count": null,
   "id": "3ad6f0a3",
   "metadata": {},
   "outputs": [],
   "source": []
  },
  {
   "cell_type": "code",
   "execution_count": null,
   "id": "13251fe2",
   "metadata": {},
   "outputs": [],
   "source": []
  }
 ],
 "metadata": {
  "kernelspec": {
   "display_name": "Python 3 (ipykernel)",
   "language": "python",
   "name": "python3"
  },
  "language_info": {
   "codemirror_mode": {
    "name": "ipython",
    "version": 3
   },
   "file_extension": ".py",
   "mimetype": "text/x-python",
   "name": "python",
   "nbconvert_exporter": "python",
   "pygments_lexer": "ipython3",
   "version": "3.10.12"
  }
 },
 "nbformat": 4,
 "nbformat_minor": 5
}
